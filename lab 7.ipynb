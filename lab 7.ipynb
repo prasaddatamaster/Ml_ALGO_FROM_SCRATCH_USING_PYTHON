{
 "cells": [
  {
   "cell_type": "markdown",
   "metadata": {},
   "source": [
    "# BHANDARKAR PRASAD PRASHANT\n",
    "\n",
    "20122061\n",
    "\n",
    "ML LAB (Naive Bayes Classifier) "
   ]
  },
  {
   "cell_type": "code",
   "execution_count": 1,
   "metadata": {},
   "outputs": [],
   "source": [
    "import numpy as np\n",
    "import pandas as pd\n",
    "import scipy.stats as stats\n",
    "import matplotlib.pyplot as plt\n",
    "import seaborn as sns\n",
    "sns.set(style=\"whitegrid\")"
   ]
  },
  {
   "cell_type": "code",
   "execution_count": 32,
   "metadata": {},
   "outputs": [],
   "source": [
    "class NaiveBayesClassifier():\n",
    "    '''\n",
    "    Bayes Theorem \n",
    "    P(y|X) = P(X|y) * P(y) / P(X)\n",
    "    '''\n",
    "    def calculate_prior(self, features, target):\n",
    "        '''\n",
    "        prior probability P(y)\n",
    "        calculate prior probabilities\n",
    "        '''\n",
    "        self.prior = (features.groupby(target).apply(lambda x: len(x)) / self.rows).to_numpy()\n",
    "        #values will get return in ndarray \n",
    "\n",
    "        return self.prior\n",
    "    \n",
    "    def calculate_statistics(self, features, target):\n",
    "        '''\n",
    "        calculate mean, variance for each column and convert to numpy array\n",
    "        ''' \n",
    "        self.mean = features.groupby(target).apply(np.mean).to_numpy()\n",
    "        self.var = features.groupby(target).apply(np.var).to_numpy()\n",
    "              \n",
    "        return self.mean, self.var\n",
    "    \n",
    "    def gaussian_density(self, class_idx, x):     \n",
    "        '''\n",
    "        calculate probability from gaussian density function (normally distributed)\n",
    "        we will assume that probability of specific target value given specific class is normally distributed \n",
    "        \n",
    "        probability density function derived from wikipedia:\n",
    "        (1/√2pi*σ) * exp((-1/2)*((x-μ)^2)/(2*σ²)), where μ is mean, σ² is variance, σ is quare root of variance (standard deviation)\n",
    "        '''\n",
    "        mean = self.mean[class_idx]\n",
    "        var = self.var[class_idx]\n",
    "        numerator = np.exp((-1/2)*((x-mean)**2) / (2 * var))\n",
    "#         numerator = np.exp(-((x-mean)**2 / (2 * var)))\n",
    "        denominator = np.sqrt(2 * np.pi * var)\n",
    "        prob = numerator / denominator\n",
    "        return prob\n",
    "    \n",
    "    def calculate_posterior(self, x):\n",
    "        posteriors = []\n",
    "\n",
    "        # calculate posterior probability for each class\n",
    "        for i in range(self.count):\n",
    "            prior = np.log(self.prior[i]) ## use the log to make it more numerically stable\n",
    "            conditional = np.sum(np.log(self.gaussian_density(i, x))) # use the log to make it more numerically stable\n",
    "            posterior = prior + conditional\n",
    "            posteriors.append(posterior)\n",
    "        # return class with highest posterior probability\n",
    "        return self.classes[np.argmax(posteriors)]\n",
    "     \n",
    "\n",
    "    def fit(self, features, target):\n",
    "        self.classes = np.unique(target)\n",
    "        self.count = len(self.classes)\n",
    "        self.feature_nums = features.shape[1]\n",
    "        self.rows = features.shape[0]\n",
    "        \n",
    "        self.calc_statistics(features, target)\n",
    "        self.calc_prior(features, target)\n",
    "        \n",
    "    def predict(self, features):\n",
    "        preds = [self.calc_posterior(f) for f in features.to_numpy()]\n",
    "        return preds\n",
    "\n",
    "    def accuracy(self, y_test, y_pred):\n",
    "        accuracy = np.sum(y_test == y_pred) / len(y_test)\n",
    "        return accuracy\n",
    "\n",
    "    def visualize(self, y_true, y_pred, target):\n",
    "        \n",
    "        tr = pd.DataFrame(data=y_true, columns=[target])\n",
    "        pr = pd.DataFrame(data=y_pred, columns=[target])\n",
    "        \n",
    "        \n",
    "        fig, ax = plt.subplots(1, 2, sharex='col', sharey='row', figsize=(15,6))\n",
    "        \n",
    "        sns.countplot(x=target, data=tr, ax=ax[0], palette='viridis', alpha=0.7, hue=target, dodge=False)\n",
    "        sns.countplot(x=target, data=pr, ax=ax[1], palette='viridis', alpha=0.7, hue=target, dodge=False)\n",
    "        \n",
    "\n",
    "        fig.suptitle('True vs Predicted Comparison', fontsize=20)\n",
    "\n",
    "        ax[0].tick_params(labelsize=12)\n",
    "        ax[1].tick_params(labelsize=12)\n",
    "        ax[0].set_title(\"True values\", fontsize=18)\n",
    "        ax[1].set_title(\"Predicted values\", fontsize=18)\n",
    "        plt.show()"
   ]
  },
  {
   "cell_type": "code",
   "execution_count": 21,
   "metadata": {
    "scrolled": false
   },
   "outputs": [
    {
     "name": "stdout",
     "output_type": "stream",
     "text": [
      "(1599, 12)\n",
      "(1000, 11) (1000,)\n",
      "(599, 11) (599,)\n"
     ]
    }
   ],
   "source": [
    "# LOAD winequality dataset -  shape is (1599,12)\n",
    "df = pd.read_csv(\"winequality-red.csv\")\n",
    "# shuffle dataset with sample\n",
    "df = df.sample(frac=1, random_state=1).reset_index(drop=True)\n",
    "# df shape\n",
    "print(df.shape)\n",
    "# set features and target\n",
    "X, y = df.iloc[:, :-1], df.iloc[:, -1]\n",
    "\n",
    "\n",
    "# # split on train and test 0.7/0.3\n",
    "X_train, X_test, y_train, y_test = X[:1000], X[1000:], y[:1000], y[1000:]\n",
    "\n",
    "print(X_train.shape, y_train.shape)\n",
    "print(X_test.shape, y_test.shape)"
   ]
  },
  {
   "cell_type": "code",
   "execution_count": 46,
   "metadata": {},
   "outputs": [
    {
     "data": {
      "text/plain": [
       "(array([3, 4, 5, 6, 7, 8], dtype=int64), 11, 1000, 6)"
      ]
     },
     "execution_count": 46,
     "metadata": {},
     "output_type": "execute_result"
    }
   ],
   "source": [
    "#To get the information about the x \n",
    "x.classes, x.feature_nums, x.rows, x.count"
   ]
  },
  {
   "cell_type": "code",
   "execution_count": 43,
   "metadata": {},
   "outputs": [
    {
     "data": {
      "text/plain": [
       "array([0.004, 0.037, 0.426, 0.399, 0.122, 0.012])"
      ]
     },
     "execution_count": 43,
     "metadata": {},
     "output_type": "execute_result"
    }
   ],
   "source": [
    "#calculate prior probabilities\n",
    "x.calc_prior(X_train, y_train)"
   ]
  },
  {
   "cell_type": "code",
   "execution_count": 44,
   "metadata": {},
   "outputs": [
    {
     "data": {
      "text/plain": [
       "array([0.004, 0.037, 0.426, 0.399, 0.122, 0.012])"
      ]
     },
     "execution_count": 44,
     "metadata": {},
     "output_type": "execute_result"
    }
   ],
   "source": [
    "#prior probabilities\n",
    "x.prior"
   ]
  },
  {
   "cell_type": "code",
   "execution_count": 45,
   "metadata": {
    "scrolled": false
   },
   "outputs": [
    {
     "data": {
      "text/plain": [
       "(array([[ 8.5       ,  0.84875   ,  0.1825    ,  2.225     ,  0.1215    ,\n",
       "         13.        , 34.        ,  0.99787   ,  3.34      ,  0.53      ,\n",
       "          9.875     ],\n",
       "        [ 7.88648649,  0.65243243,  0.20432432,  2.55675676,  0.09381081,\n",
       "         12.94594595, 32.72972973,  0.99644514,  3.38189189,  0.59513514,\n",
       "         10.36351351],\n",
       "        [ 8.19647887,  0.57295775,  0.24640845,  2.50422535,  0.0950939 ,\n",
       "         16.69483568, 55.75234742,  0.99713509,  3.29577465,  0.62410798,\n",
       "          9.8443662 ],\n",
       "        [ 8.3641604 ,  0.49418546,  0.27809524,  2.49686717,  0.08642105,\n",
       "         15.97744361, 41.98245614,  0.99666025,  3.31157895,  0.68025063,\n",
       "         10.60121136],\n",
       "        [ 8.9295082 ,  0.41852459,  0.37532787,  2.77295082,  0.0784918 ,\n",
       "         13.94672131, 34.5       ,  0.99617803,  3.28893443,  0.7352459 ,\n",
       "         11.47008197],\n",
       "        [ 8.39166667,  0.43416667,  0.36666667,  2.475     ,  0.06766667,\n",
       "         15.66666667, 38.75      ,  0.9953075 ,  3.26833333,  0.77833333,\n",
       "         12.        ]]),\n",
       " array([[3.49500000e+00, 2.99796875e-02, 7.63187500e-02, 6.11875000e-01,\n",
       "         7.12325000e-03, 2.90000000e+01, 2.37000000e+02, 5.08635000e-06,\n",
       "         7.25000000e-03, 1.00000000e-03, 5.16875000e-01],\n",
       "        [3.07792549e+00, 4.52967860e-02, 4.87596786e-02, 1.22623813e+00,\n",
       "         7.81739664e-03, 9.42673484e+01, 5.01440467e+02, 1.97203579e-06,\n",
       "         3.82585829e-02, 6.15871439e-02, 8.41439007e-01],\n",
       "        [2.47893126e+00, 2.84882001e-02, 3.31159740e-02, 1.70640233e+00,\n",
       "         3.87365316e-03, 1.13390443e+02, 1.31283362e+03, 2.30974893e-06,\n",
       "         2.16793295e-02, 3.04298381e-02, 4.66552767e-01],\n",
       "        [3.03678570e+00, 2.58614293e-02, 3.61166726e-02, 2.26513430e+00,\n",
       "         1.76408337e-03, 1.08048363e+02, 6.45370620e+02, 4.03054630e-06,\n",
       "         2.17070307e-02, 2.65909146e-02, 1.09370432e+00],\n",
       "        [4.34716205e+00, 2.22810199e-02, 3.96724335e-02, 1.88213719e+00,\n",
       "         1.15700403e-03, 9.82942925e+01, 9.74922131e+02, 5.20916662e-06,\n",
       "         2.24914875e-02, 1.67200215e-02, 1.01461721e+00],\n",
       "        [3.60743056e+00, 2.64909722e-02, 4.33888889e-02, 1.00687500e+00,\n",
       "         1.78555556e-04, 1.47722222e+02, 7.42687500e+02, 4.77490208e-06,\n",
       "         2.61138889e-02, 1.70305556e-02, 1.24000000e+00]]))"
      ]
     },
     "execution_count": 45,
     "metadata": {},
     "output_type": "execute_result"
    }
   ],
   "source": [
    "#calculate mean, variance for each column and convert to numpy array\n",
    "x.calc_statistics(X_train, y_train)"
   ]
  },
  {
   "cell_type": "code",
   "execution_count": 47,
   "metadata": {
    "scrolled": true
   },
   "outputs": [
    {
     "data": {
      "text/plain": [
       "array([[ 8.5       ,  0.84875   ,  0.1825    ,  2.225     ,  0.1215    ,\n",
       "        13.        , 34.        ,  0.99787   ,  3.34      ,  0.53      ,\n",
       "         9.875     ],\n",
       "       [ 7.88648649,  0.65243243,  0.20432432,  2.55675676,  0.09381081,\n",
       "        12.94594595, 32.72972973,  0.99644514,  3.38189189,  0.59513514,\n",
       "        10.36351351],\n",
       "       [ 8.19647887,  0.57295775,  0.24640845,  2.50422535,  0.0950939 ,\n",
       "        16.69483568, 55.75234742,  0.99713509,  3.29577465,  0.62410798,\n",
       "         9.8443662 ],\n",
       "       [ 8.3641604 ,  0.49418546,  0.27809524,  2.49686717,  0.08642105,\n",
       "        15.97744361, 41.98245614,  0.99666025,  3.31157895,  0.68025063,\n",
       "        10.60121136],\n",
       "       [ 8.9295082 ,  0.41852459,  0.37532787,  2.77295082,  0.0784918 ,\n",
       "        13.94672131, 34.5       ,  0.99617803,  3.28893443,  0.7352459 ,\n",
       "        11.47008197],\n",
       "       [ 8.39166667,  0.43416667,  0.36666667,  2.475     ,  0.06766667,\n",
       "        15.66666667, 38.75      ,  0.9953075 ,  3.26833333,  0.77833333,\n",
       "        12.        ]])"
      ]
     },
     "execution_count": 47,
     "metadata": {},
     "output_type": "execute_result"
    }
   ],
   "source": [
    "x.mean"
   ]
  },
  {
   "cell_type": "code",
   "execution_count": 48,
   "metadata": {
    "scrolled": true
   },
   "outputs": [
    {
     "data": {
      "text/plain": [
       "array([[3.49500000e+00, 2.99796875e-02, 7.63187500e-02, 6.11875000e-01,\n",
       "        7.12325000e-03, 2.90000000e+01, 2.37000000e+02, 5.08635000e-06,\n",
       "        7.25000000e-03, 1.00000000e-03, 5.16875000e-01],\n",
       "       [3.07792549e+00, 4.52967860e-02, 4.87596786e-02, 1.22623813e+00,\n",
       "        7.81739664e-03, 9.42673484e+01, 5.01440467e+02, 1.97203579e-06,\n",
       "        3.82585829e-02, 6.15871439e-02, 8.41439007e-01],\n",
       "       [2.47893126e+00, 2.84882001e-02, 3.31159740e-02, 1.70640233e+00,\n",
       "        3.87365316e-03, 1.13390443e+02, 1.31283362e+03, 2.30974893e-06,\n",
       "        2.16793295e-02, 3.04298381e-02, 4.66552767e-01],\n",
       "       [3.03678570e+00, 2.58614293e-02, 3.61166726e-02, 2.26513430e+00,\n",
       "        1.76408337e-03, 1.08048363e+02, 6.45370620e+02, 4.03054630e-06,\n",
       "        2.17070307e-02, 2.65909146e-02, 1.09370432e+00],\n",
       "       [4.34716205e+00, 2.22810199e-02, 3.96724335e-02, 1.88213719e+00,\n",
       "        1.15700403e-03, 9.82942925e+01, 9.74922131e+02, 5.20916662e-06,\n",
       "        2.24914875e-02, 1.67200215e-02, 1.01461721e+00],\n",
       "       [3.60743056e+00, 2.64909722e-02, 4.33888889e-02, 1.00687500e+00,\n",
       "        1.78555556e-04, 1.47722222e+02, 7.42687500e+02, 4.77490208e-06,\n",
       "        2.61138889e-02, 1.70305556e-02, 1.24000000e+00]])"
      ]
     },
     "execution_count": 48,
     "metadata": {},
     "output_type": "execute_result"
    }
   ],
   "source": [
    "x.var"
   ]
  },
  {
   "cell_type": "code",
   "execution_count": null,
   "metadata": {},
   "outputs": [],
   "source": []
  },
  {
   "cell_type": "code",
   "execution_count": 39,
   "metadata": {},
   "outputs": [
    {
     "data": {
      "text/html": [
       "<div>\n",
       "<style scoped>\n",
       "    .dataframe tbody tr th:only-of-type {\n",
       "        vertical-align: middle;\n",
       "    }\n",
       "\n",
       "    .dataframe tbody tr th {\n",
       "        vertical-align: top;\n",
       "    }\n",
       "\n",
       "    .dataframe thead th {\n",
       "        text-align: right;\n",
       "    }\n",
       "</style>\n",
       "<table border=\"1\" class=\"dataframe\">\n",
       "  <thead>\n",
       "    <tr style=\"text-align: right;\">\n",
       "      <th></th>\n",
       "      <th>fixed acidity</th>\n",
       "      <th>volatile acidity</th>\n",
       "      <th>citric acid</th>\n",
       "      <th>residual sugar</th>\n",
       "      <th>chlorides</th>\n",
       "      <th>free sulfur dioxide</th>\n",
       "      <th>total sulfur dioxide</th>\n",
       "      <th>density</th>\n",
       "      <th>pH</th>\n",
       "      <th>sulphates</th>\n",
       "      <th>alcohol</th>\n",
       "      <th>quality</th>\n",
       "    </tr>\n",
       "  </thead>\n",
       "  <tbody>\n",
       "    <tr>\n",
       "      <th>0</th>\n",
       "      <td>8.8</td>\n",
       "      <td>0.41</td>\n",
       "      <td>0.64</td>\n",
       "      <td>2.2</td>\n",
       "      <td>0.093</td>\n",
       "      <td>9.0</td>\n",
       "      <td>42.0</td>\n",
       "      <td>0.99860</td>\n",
       "      <td>3.54</td>\n",
       "      <td>0.66</td>\n",
       "      <td>10.5</td>\n",
       "      <td>5</td>\n",
       "    </tr>\n",
       "    <tr>\n",
       "      <th>1</th>\n",
       "      <td>8.7</td>\n",
       "      <td>0.63</td>\n",
       "      <td>0.28</td>\n",
       "      <td>2.7</td>\n",
       "      <td>0.096</td>\n",
       "      <td>17.0</td>\n",
       "      <td>69.0</td>\n",
       "      <td>0.99734</td>\n",
       "      <td>3.26</td>\n",
       "      <td>0.63</td>\n",
       "      <td>10.2</td>\n",
       "      <td>6</td>\n",
       "    </tr>\n",
       "    <tr>\n",
       "      <th>2</th>\n",
       "      <td>10.4</td>\n",
       "      <td>0.34</td>\n",
       "      <td>0.58</td>\n",
       "      <td>3.7</td>\n",
       "      <td>0.174</td>\n",
       "      <td>6.0</td>\n",
       "      <td>16.0</td>\n",
       "      <td>0.99700</td>\n",
       "      <td>3.19</td>\n",
       "      <td>0.70</td>\n",
       "      <td>11.3</td>\n",
       "      <td>6</td>\n",
       "    </tr>\n",
       "    <tr>\n",
       "      <th>3</th>\n",
       "      <td>7.1</td>\n",
       "      <td>0.46</td>\n",
       "      <td>0.20</td>\n",
       "      <td>1.9</td>\n",
       "      <td>0.077</td>\n",
       "      <td>28.0</td>\n",
       "      <td>54.0</td>\n",
       "      <td>0.99560</td>\n",
       "      <td>3.37</td>\n",
       "      <td>0.64</td>\n",
       "      <td>10.4</td>\n",
       "      <td>6</td>\n",
       "    </tr>\n",
       "    <tr>\n",
       "      <th>4</th>\n",
       "      <td>7.1</td>\n",
       "      <td>0.39</td>\n",
       "      <td>0.12</td>\n",
       "      <td>2.1</td>\n",
       "      <td>0.065</td>\n",
       "      <td>14.0</td>\n",
       "      <td>24.0</td>\n",
       "      <td>0.99252</td>\n",
       "      <td>3.30</td>\n",
       "      <td>0.53</td>\n",
       "      <td>13.3</td>\n",
       "      <td>6</td>\n",
       "    </tr>\n",
       "  </tbody>\n",
       "</table>\n",
       "</div>"
      ],
      "text/plain": [
       "   fixed acidity  volatile acidity  citric acid  residual sugar  chlorides  \\\n",
       "0            8.8              0.41         0.64             2.2      0.093   \n",
       "1            8.7              0.63         0.28             2.7      0.096   \n",
       "2           10.4              0.34         0.58             3.7      0.174   \n",
       "3            7.1              0.46         0.20             1.9      0.077   \n",
       "4            7.1              0.39         0.12             2.1      0.065   \n",
       "\n",
       "   free sulfur dioxide  total sulfur dioxide  density    pH  sulphates  \\\n",
       "0                  9.0                  42.0  0.99860  3.54       0.66   \n",
       "1                 17.0                  69.0  0.99734  3.26       0.63   \n",
       "2                  6.0                  16.0  0.99700  3.19       0.70   \n",
       "3                 28.0                  54.0  0.99560  3.37       0.64   \n",
       "4                 14.0                  24.0  0.99252  3.30       0.53   \n",
       "\n",
       "   alcohol  quality  \n",
       "0     10.5        5  \n",
       "1     10.2        6  \n",
       "2     11.3        6  \n",
       "3     10.4        6  \n",
       "4     13.3        6  "
      ]
     },
     "execution_count": 39,
     "metadata": {},
     "output_type": "execute_result"
    }
   ],
   "source": [
    "df.head()"
   ]
  },
  {
   "cell_type": "code",
   "execution_count": 35,
   "metadata": {},
   "outputs": [],
   "source": [
    "# train the model\n",
    "x = NaiveBayesClassifier()\n",
    "\n",
    "\n",
    "x.fit(X_train, y_train)"
   ]
  },
  {
   "cell_type": "code",
   "execution_count": 36,
   "metadata": {},
   "outputs": [],
   "source": [
    "predictions = x.predict(X_test)"
   ]
  },
  {
   "cell_type": "code",
   "execution_count": 37,
   "metadata": {
    "scrolled": true
   },
   "outputs": [
    {
     "data": {
      "text/plain": [
       "0.5759599332220368"
      ]
     },
     "execution_count": 37,
     "metadata": {},
     "output_type": "execute_result"
    }
   ],
   "source": [
    "x.accuracy(y_test, predictions)\n"
   ]
  },
  {
   "cell_type": "code",
   "execution_count": 38,
   "metadata": {
    "scrolled": true
   },
   "outputs": [
    {
     "data": {
      "text/plain": [
       "5    0.425710\n",
       "6    0.398998\n",
       "7    0.128548\n",
       "4    0.026711\n",
       "8    0.010017\n",
       "3    0.010017\n",
       "Name: quality, dtype: float64"
      ]
     },
     "execution_count": 38,
     "metadata": {},
     "output_type": "execute_result"
    }
   ],
   "source": [
    "y_test.value_counts(normalize=True)"
   ]
  },
  {
   "cell_type": "code",
   "execution_count": 40,
   "metadata": {},
   "outputs": [
    {
     "data": {
      "image/png": "[encoded data removed]",
      "text/plain": [
       "<Figure size 1080x432 with 2 Axes>"
      ]
     },
     "metadata": {},
     "output_type": "display_data"
    }
   ],
   "source": [
    "\n",
    "x.visualize(y_test, predictions, 'quality')"
   ]
  }
 ],
 "metadata": {
  "kernelspec": {
   "display_name": "Python 3",
   "language": "python",
   "name": "python3"
  },
  "language_info": {
   "codemirror_mode": {
    "name": "ipython",
    "version": 3
   },
   "file_extension": ".py",
   "mimetype": "text/x-python",
   "name": "python",
   "nbconvert_exporter": "python",
   "pygments_lexer": "ipython3",
   "version": "3.8.5"
  }
 },
 "nbformat": 4,
 "nbformat_minor": 4
}
